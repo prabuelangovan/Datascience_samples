{
  "nbformat": 4,
  "nbformat_minor": 0,
  "metadata": {
    "colab": {
      "name": "Instagram POC.ipynb",
      "provenance": [],
      "authorship_tag": "ABX9TyOyDqh8udVAkI/j3yfDVsD/",
      "include_colab_link": true
    },
    "kernelspec": {
      "name": "python3",
      "display_name": "Python 3"
    },
    "language_info": {
      "name": "python"
    }
  },
  "cells": [
    {
      "cell_type": "markdown",
      "metadata": {
        "id": "view-in-github",
        "colab_type": "text"
      },
      "source": [
        "<a href=\"https://colab.research.google.com/github/prabuelangovan/prabuelangovan/blob/main/Instagram_POC.ipynb\" target=\"_parent\"><img src=\"https://colab.research.google.com/assets/colab-badge.svg\" alt=\"Open In Colab\"/></a>"
      ]
    },
    {
      "cell_type": "code",
      "execution_count": null,
      "metadata": {
        "id": "kb6LgrnqmWhZ"
      },
      "outputs": [],
      "source": [
        "import numpy as np\n",
        "import pandas as pd\n",
        "import matplotlib.pyplot as plt\n",
        "from sklearn import metrics\n",
        "import seaborn as sns"
      ]
    },
    {
      "cell_type": "code",
      "source": [
        "from google.colab import files\n",
        "uploaded = files.upload()"
      ],
      "metadata": {
        "colab": {
          "resources": {
            "http://localhost:8080/nbextensions/google.colab/files.js": {
              "data": "Ly8gQ29weXJpZ2h0IDIwMTcgR29vZ2xlIExMQwovLwovLyBMaWNlbnNlZCB1bmRlciB0aGUgQXBhY2hlIExpY2Vuc2UsIFZlcnNpb24gMi4wICh0aGUgIkxpY2Vuc2UiKTsKLy8geW91IG1heSBub3QgdXNlIHRoaXMgZmlsZSBleGNlcHQgaW4gY29tcGxpYW5jZSB3aXRoIHRoZSBMaWNlbnNlLgovLyBZb3UgbWF5IG9idGFpbiBhIGNvcHkgb2YgdGhlIExpY2Vuc2UgYXQKLy8KLy8gICAgICBodHRwOi8vd3d3LmFwYWNoZS5vcmcvbGljZW5zZXMvTElDRU5TRS0yLjAKLy8KLy8gVW5sZXNzIHJlcXVpcmVkIGJ5IGFwcGxpY2FibGUgbGF3IG9yIGFncmVlZCB0byBpbiB3cml0aW5nLCBzb2Z0d2FyZQovLyBkaXN0cmlidXRlZCB1bmRlciB0aGUgTGljZW5zZSBpcyBkaXN0cmlidXRlZCBvbiBhbiAiQVMgSVMiIEJBU0lTLAovLyBXSVRIT1VUIFdBUlJBTlRJRVMgT1IgQ09ORElUSU9OUyBPRiBBTlkgS0lORCwgZWl0aGVyIGV4cHJlc3Mgb3IgaW1wbGllZC4KLy8gU2VlIHRoZSBMaWNlbnNlIGZvciB0aGUgc3BlY2lmaWMgbGFuZ3VhZ2UgZ292ZXJuaW5nIHBlcm1pc3Npb25zIGFuZAovLyBsaW1pdGF0aW9ucyB1bmRlciB0aGUgTGljZW5zZS4KCi8qKgogKiBAZmlsZW92ZXJ2aWV3IEhlbHBlcnMgZm9yIGdvb2dsZS5jb2xhYiBQeXRob24gbW9kdWxlLgogKi8KKGZ1bmN0aW9uKHNjb3BlKSB7CmZ1bmN0aW9uIHNwYW4odGV4dCwgc3R5bGVBdHRyaWJ1dGVzID0ge30pIHsKICBjb25zdCBlbGVtZW50ID0gZG9jdW1lbnQuY3JlYXRlRWxlbWVudCgnc3BhbicpOwogIGVsZW1lbnQudGV4dENvbnRlbnQgPSB0ZXh0OwogIGZvciAoY29uc3Qga2V5IG9mIE9iamVjdC5rZXlzKHN0eWxlQXR0cmlidXRlcykpIHsKICAgIGVsZW1lbnQuc3R5bGVba2V5XSA9IHN0eWxlQXR0cmlidXRlc1trZXldOwogIH0KICByZXR1cm4gZWxlbWVudDsKfQoKLy8gTWF4IG51bWJlciBvZiBieXRlcyB3aGljaCB3aWxsIGJlIHVwbG9hZGVkIGF0IGEgdGltZS4KY29uc3QgTUFYX1BBWUxPQURfU0laRSA9IDEwMCAqIDEwMjQ7CgpmdW5jdGlvbiBfdXBsb2FkRmlsZXMoaW5wdXRJZCwgb3V0cHV0SWQpIHsKICBjb25zdCBzdGVwcyA9IHVwbG9hZEZpbGVzU3RlcChpbnB1dElkLCBvdXRwdXRJZCk7CiAgY29uc3Qgb3V0cHV0RWxlbWVudCA9IGRvY3VtZW50LmdldEVsZW1lbnRCeUlkKG91dHB1dElkKTsKICAvLyBDYWNoZSBzdGVwcyBvbiB0aGUgb3V0cHV0RWxlbWVudCB0byBtYWtlIGl0IGF2YWlsYWJsZSBmb3IgdGhlIG5leHQgY2FsbAogIC8vIHRvIHVwbG9hZEZpbGVzQ29udGludWUgZnJvbSBQeXRob24uCiAgb3V0cHV0RWxlbWVudC5zdGVwcyA9IHN0ZXBzOwoKICByZXR1cm4gX3VwbG9hZEZpbGVzQ29udGludWUob3V0cHV0SWQpOwp9CgovLyBUaGlzIGlzIHJvdWdobHkgYW4gYXN5bmMgZ2VuZXJhdG9yIChub3Qgc3VwcG9ydGVkIGluIHRoZSBicm93c2VyIHlldCksCi8vIHdoZXJlIHRoZXJlIGFyZSBtdWx0aXBsZSBhc3luY2hyb25vdXMgc3RlcHMgYW5kIHRoZSBQeXRob24gc2lkZSBpcyBnb2luZwovLyB0byBwb2xsIGZvciBjb21wbGV0aW9uIG9mIGVhY2ggc3RlcC4KLy8gVGhpcyB1c2VzIGEgUHJvbWlzZSB0byBibG9jayB0aGUgcHl0aG9uIHNpZGUgb24gY29tcGxldGlvbiBvZiBlYWNoIHN0ZXAsCi8vIHRoZW4gcGFzc2VzIHRoZSByZXN1bHQgb2YgdGhlIHByZXZpb3VzIHN0ZXAgYXMgdGhlIGlucHV0IHRvIHRoZSBuZXh0IHN0ZXAuCmZ1bmN0aW9uIF91cGxvYWRGaWxlc0NvbnRpbnVlKG91dHB1dElkKSB7CiAgY29uc3Qgb3V0cHV0RWxlbWVudCA9IGRvY3VtZW50LmdldEVsZW1lbnRCeUlkKG91dHB1dElkKTsKICBjb25zdCBzdGVwcyA9IG91dHB1dEVsZW1lbnQuc3RlcHM7CgogIGNvbnN0IG5leHQgPSBzdGVwcy5uZXh0KG91dHB1dEVsZW1lbnQubGFzdFByb21pc2VWYWx1ZSk7CiAgcmV0dXJuIFByb21pc2UucmVzb2x2ZShuZXh0LnZhbHVlLnByb21pc2UpLnRoZW4oKHZhbHVlKSA9PiB7CiAgICAvLyBDYWNoZSB0aGUgbGFzdCBwcm9taXNlIHZhbHVlIHRvIG1ha2UgaXQgYXZhaWxhYmxlIHRvIHRoZSBuZXh0CiAgICAvLyBzdGVwIG9mIHRoZSBnZW5lcmF0b3IuCiAgICBvdXRwdXRFbGVtZW50Lmxhc3RQcm9taXNlVmFsdWUgPSB2YWx1ZTsKICAgIHJldHVybiBuZXh0LnZhbHVlLnJlc3BvbnNlOwogIH0pOwp9CgovKioKICogR2VuZXJhdG9yIGZ1bmN0aW9uIHdoaWNoIGlzIGNhbGxlZCBiZXR3ZWVuIGVhY2ggYXN5bmMgc3RlcCBvZiB0aGUgdXBsb2FkCiAqIHByb2Nlc3MuCiAqIEBwYXJhbSB7c3RyaW5nfSBpbnB1dElkIEVsZW1lbnQgSUQgb2YgdGhlIGlucHV0IGZpbGUgcGlja2VyIGVsZW1lbnQuCiAqIEBwYXJhbSB7c3RyaW5nfSBvdXRwdXRJZCBFbGVtZW50IElEIG9mIHRoZSBvdXRwdXQgZGlzcGxheS4KICogQHJldHVybiB7IUl0ZXJhYmxlPCFPYmplY3Q+fSBJdGVyYWJsZSBvZiBuZXh0IHN0ZXBzLgogKi8KZnVuY3Rpb24qIHVwbG9hZEZpbGVzU3RlcChpbnB1dElkLCBvdXRwdXRJZCkgewogIGNvbnN0IGlucHV0RWxlbWVudCA9IGRvY3VtZW50LmdldEVsZW1lbnRCeUlkKGlucHV0SWQpOwogIGlucHV0RWxlbWVudC5kaXNhYmxlZCA9IGZhbHNlOwoKICBjb25zdCBvdXRwdXRFbGVtZW50ID0gZG9jdW1lbnQuZ2V0RWxlbWVudEJ5SWQob3V0cHV0SWQpOwogIG91dHB1dEVsZW1lbnQuaW5uZXJIVE1MID0gJyc7CgogIGNvbnN0IHBpY2tlZFByb21pc2UgPSBuZXcgUHJvbWlzZSgocmVzb2x2ZSkgPT4gewogICAgaW5wdXRFbGVtZW50LmFkZEV2ZW50TGlzdGVuZXIoJ2NoYW5nZScsIChlKSA9PiB7CiAgICAgIHJlc29sdmUoZS50YXJnZXQuZmlsZXMpOwogICAgfSk7CiAgfSk7CgogIGNvbnN0IGNhbmNlbCA9IGRvY3VtZW50LmNyZWF0ZUVsZW1lbnQoJ2J1dHRvbicpOwogIGlucHV0RWxlbWVudC5wYXJlbnRFbGVtZW50LmFwcGVuZENoaWxkKGNhbmNlbCk7CiAgY2FuY2VsLnRleHRDb250ZW50ID0gJ0NhbmNlbCB1cGxvYWQnOwogIGNvbnN0IGNhbmNlbFByb21pc2UgPSBuZXcgUHJvbWlzZSgocmVzb2x2ZSkgPT4gewogICAgY2FuY2VsLm9uY2xpY2sgPSAoKSA9PiB7CiAgICAgIHJlc29sdmUobnVsbCk7CiAgICB9OwogIH0pOwoKICAvLyBXYWl0IGZvciB0aGUgdXNlciB0byBwaWNrIHRoZSBmaWxlcy4KICBjb25zdCBmaWxlcyA9IHlpZWxkIHsKICAgIHByb21pc2U6IFByb21pc2UucmFjZShbcGlja2VkUHJvbWlzZSwgY2FuY2VsUHJvbWlzZV0pLAogICAgcmVzcG9uc2U6IHsKICAgICAgYWN0aW9uOiAnc3RhcnRpbmcnLAogICAgfQogIH07CgogIGNhbmNlbC5yZW1vdmUoKTsKCiAgLy8gRGlzYWJsZSB0aGUgaW5wdXQgZWxlbWVudCBzaW5jZSBmdXJ0aGVyIHBpY2tzIGFyZSBub3QgYWxsb3dlZC4KICBpbnB1dEVsZW1lbnQuZGlzYWJsZWQgPSB0cnVlOwoKICBpZiAoIWZpbGVzKSB7CiAgICByZXR1cm4gewogICAgICByZXNwb25zZTogewogICAgICAgIGFjdGlvbjogJ2NvbXBsZXRlJywKICAgICAgfQogICAgfTsKICB9CgogIGZvciAoY29uc3QgZmlsZSBvZiBmaWxlcykgewogICAgY29uc3QgbGkgPSBkb2N1bWVudC5jcmVhdGVFbGVtZW50KCdsaScpOwogICAgbGkuYXBwZW5kKHNwYW4oZmlsZS5uYW1lLCB7Zm9udFdlaWdodDogJ2JvbGQnfSkpOwogICAgbGkuYXBwZW5kKHNwYW4oCiAgICAgICAgYCgke2ZpbGUudHlwZSB8fCAnbi9hJ30pIC0gJHtmaWxlLnNpemV9IGJ5dGVzLCBgICsKICAgICAgICBgbGFzdCBtb2RpZmllZDogJHsKICAgICAgICAgICAgZmlsZS5sYXN0TW9kaWZpZWREYXRlID8gZmlsZS5sYXN0TW9kaWZpZWREYXRlLnRvTG9jYWxlRGF0ZVN0cmluZygpIDoKICAgICAgICAgICAgICAgICAgICAgICAgICAgICAgICAgICAgJ24vYSd9IC0gYCkpOwogICAgY29uc3QgcGVyY2VudCA9IHNwYW4oJzAlIGRvbmUnKTsKICAgIGxpLmFwcGVuZENoaWxkKHBlcmNlbnQpOwoKICAgIG91dHB1dEVsZW1lbnQuYXBwZW5kQ2hpbGQobGkpOwoKICAgIGNvbnN0IGZpbGVEYXRhUHJvbWlzZSA9IG5ldyBQcm9taXNlKChyZXNvbHZlKSA9PiB7CiAgICAgIGNvbnN0IHJlYWRlciA9IG5ldyBGaWxlUmVhZGVyKCk7CiAgICAgIHJlYWRlci5vbmxvYWQgPSAoZSkgPT4gewogICAgICAgIHJlc29sdmUoZS50YXJnZXQucmVzdWx0KTsKICAgICAgfTsKICAgICAgcmVhZGVyLnJlYWRBc0FycmF5QnVmZmVyKGZpbGUpOwogICAgfSk7CiAgICAvLyBXYWl0IGZvciB0aGUgZGF0YSB0byBiZSByZWFkeS4KICAgIGxldCBmaWxlRGF0YSA9IHlpZWxkIHsKICAgICAgcHJvbWlzZTogZmlsZURhdGFQcm9taXNlLAogICAgICByZXNwb25zZTogewogICAgICAgIGFjdGlvbjogJ2NvbnRpbnVlJywKICAgICAgfQogICAgfTsKCiAgICAvLyBVc2UgYSBjaHVua2VkIHNlbmRpbmcgdG8gYXZvaWQgbWVzc2FnZSBzaXplIGxpbWl0cy4gU2VlIGIvNjIxMTU2NjAuCiAgICBsZXQgcG9zaXRpb24gPSAwOwogICAgZG8gewogICAgICBjb25zdCBsZW5ndGggPSBNYXRoLm1pbihmaWxlRGF0YS5ieXRlTGVuZ3RoIC0gcG9zaXRpb24sIE1BWF9QQVlMT0FEX1NJWkUpOwogICAgICBjb25zdCBjaHVuayA9IG5ldyBVaW50OEFycmF5KGZpbGVEYXRhLCBwb3NpdGlvbiwgbGVuZ3RoKTsKICAgICAgcG9zaXRpb24gKz0gbGVuZ3RoOwoKICAgICAgY29uc3QgYmFzZTY0ID0gYnRvYShTdHJpbmcuZnJvbUNoYXJDb2RlLmFwcGx5KG51bGwsIGNodW5rKSk7CiAgICAgIHlpZWxkIHsKICAgICAgICByZXNwb25zZTogewogICAgICAgICAgYWN0aW9uOiAnYXBwZW5kJywKICAgICAgICAgIGZpbGU6IGZpbGUubmFtZSwKICAgICAgICAgIGRhdGE6IGJhc2U2NCwKICAgICAgICB9LAogICAgICB9OwoKICAgICAgbGV0IHBlcmNlbnREb25lID0gZmlsZURhdGEuYnl0ZUxlbmd0aCA9PT0gMCA/CiAgICAgICAgICAxMDAgOgogICAgICAgICAgTWF0aC5yb3VuZCgocG9zaXRpb24gLyBmaWxlRGF0YS5ieXRlTGVuZ3RoKSAqIDEwMCk7CiAgICAgIHBlcmNlbnQudGV4dENvbnRlbnQgPSBgJHtwZXJjZW50RG9uZX0lIGRvbmVgOwoKICAgIH0gd2hpbGUgKHBvc2l0aW9uIDwgZmlsZURhdGEuYnl0ZUxlbmd0aCk7CiAgfQoKICAvLyBBbGwgZG9uZS4KICB5aWVsZCB7CiAgICByZXNwb25zZTogewogICAgICBhY3Rpb246ICdjb21wbGV0ZScsCiAgICB9CiAgfTsKfQoKc2NvcGUuZ29vZ2xlID0gc2NvcGUuZ29vZ2xlIHx8IHt9OwpzY29wZS5nb29nbGUuY29sYWIgPSBzY29wZS5nb29nbGUuY29sYWIgfHwge307CnNjb3BlLmdvb2dsZS5jb2xhYi5fZmlsZXMgPSB7CiAgX3VwbG9hZEZpbGVzLAogIF91cGxvYWRGaWxlc0NvbnRpbnVlLAp9Owp9KShzZWxmKTsK",
              "ok": true,
              "headers": [
                [
                  "content-type",
                  "application/javascript"
                ]
              ],
              "status": 200,
              "status_text": ""
            }
          },
          "base_uri": "https://localhost:8080/",
          "height": 74
        },
        "id": "C8Y8v8Imnl1q",
        "outputId": "adec5ea5-59aa-40a7-9084-e21ca47537fd"
      },
      "execution_count": null,
      "outputs": [
        {
          "output_type": "display_data",
          "data": {
            "text/html": [
              "\n",
              "     <input type=\"file\" id=\"files-13cf42bd-859f-44a6-aed9-3fa1516a2d5a\" name=\"files[]\" multiple disabled\n",
              "        style=\"border:none\" />\n",
              "     <output id=\"result-13cf42bd-859f-44a6-aed9-3fa1516a2d5a\">\n",
              "      Upload widget is only available when the cell has been executed in the\n",
              "      current browser session. Please rerun this cell to enable.\n",
              "      </output>\n",
              "      <script src=\"/nbextensions/google.colab/files.js\"></script> "
            ],
            "text/plain": [
              "<IPython.core.display.HTML object>"
            ]
          },
          "metadata": {}
        },
        {
          "output_type": "stream",
          "name": "stdout",
          "text": [
            "Saving Instagram visits clustering.csv to Instagram visits clustering.csv\n"
          ]
        }
      ]
    },
    {
      "cell_type": "code",
      "source": [
        "df1 = pd.read_csv('Instagram visits clustering.csv')\n",
        "df1"
      ],
      "metadata": {
        "colab": {
          "base_uri": "https://localhost:8080/",
          "height": 423
        },
        "id": "WYhK3aOHn225",
        "outputId": "de7aef2f-6ff6-4a70-990f-bf5d3e0c848f"
      },
      "execution_count": null,
      "outputs": [
        {
          "output_type": "execute_result",
          "data": {
            "text/html": [
              "\n",
              "  <div id=\"df-2baf006f-d41b-4a07-8f38-0507ffafa488\">\n",
              "    <div class=\"colab-df-container\">\n",
              "      <div>\n",
              "<style scoped>\n",
              "    .dataframe tbody tr th:only-of-type {\n",
              "        vertical-align: middle;\n",
              "    }\n",
              "\n",
              "    .dataframe tbody tr th {\n",
              "        vertical-align: top;\n",
              "    }\n",
              "\n",
              "    .dataframe thead th {\n",
              "        text-align: right;\n",
              "    }\n",
              "</style>\n",
              "<table border=\"1\" class=\"dataframe\">\n",
              "  <thead>\n",
              "    <tr style=\"text-align: right;\">\n",
              "      <th></th>\n",
              "      <th>User ID</th>\n",
              "      <th>Instagram visit score</th>\n",
              "      <th>Spending_rank(0 to 100)</th>\n",
              "    </tr>\n",
              "  </thead>\n",
              "  <tbody>\n",
              "    <tr>\n",
              "      <th>0</th>\n",
              "      <td>0</td>\n",
              "      <td>63</td>\n",
              "      <td>24.050708</td>\n",
              "    </tr>\n",
              "    <tr>\n",
              "      <th>1</th>\n",
              "      <td>1</td>\n",
              "      <td>61</td>\n",
              "      <td>25.223290</td>\n",
              "    </tr>\n",
              "    <tr>\n",
              "      <th>2</th>\n",
              "      <td>2</td>\n",
              "      <td>104</td>\n",
              "      <td>18.528245</td>\n",
              "    </tr>\n",
              "    <tr>\n",
              "      <th>3</th>\n",
              "      <td>3</td>\n",
              "      <td>82</td>\n",
              "      <td>86.890232</td>\n",
              "    </tr>\n",
              "    <tr>\n",
              "      <th>4</th>\n",
              "      <td>4</td>\n",
              "      <td>14</td>\n",
              "      <td>31.492397</td>\n",
              "    </tr>\n",
              "    <tr>\n",
              "      <th>...</th>\n",
              "      <td>...</td>\n",
              "      <td>...</td>\n",
              "      <td>...</td>\n",
              "    </tr>\n",
              "    <tr>\n",
              "      <th>2595</th>\n",
              "      <td>2595</td>\n",
              "      <td>25</td>\n",
              "      <td>25.745908</td>\n",
              "    </tr>\n",
              "    <tr>\n",
              "      <th>2596</th>\n",
              "      <td>2596</td>\n",
              "      <td>52</td>\n",
              "      <td>9.275066</td>\n",
              "    </tr>\n",
              "    <tr>\n",
              "      <th>2597</th>\n",
              "      <td>2597</td>\n",
              "      <td>100</td>\n",
              "      <td>84.999487</td>\n",
              "    </tr>\n",
              "    <tr>\n",
              "      <th>2598</th>\n",
              "      <td>2598</td>\n",
              "      <td>87</td>\n",
              "      <td>20.530806</td>\n",
              "    </tr>\n",
              "    <tr>\n",
              "      <th>2599</th>\n",
              "      <td>2599</td>\n",
              "      <td>34</td>\n",
              "      <td>76.388622</td>\n",
              "    </tr>\n",
              "  </tbody>\n",
              "</table>\n",
              "<p>2600 rows × 3 columns</p>\n",
              "</div>\n",
              "      <button class=\"colab-df-convert\" onclick=\"convertToInteractive('df-2baf006f-d41b-4a07-8f38-0507ffafa488')\"\n",
              "              title=\"Convert this dataframe to an interactive table.\"\n",
              "              style=\"display:none;\">\n",
              "        \n",
              "  <svg xmlns=\"http://www.w3.org/2000/svg\" height=\"24px\"viewBox=\"0 0 24 24\"\n",
              "       width=\"24px\">\n",
              "    <path d=\"M0 0h24v24H0V0z\" fill=\"none\"/>\n",
              "    <path d=\"M18.56 5.44l.94 2.06.94-2.06 2.06-.94-2.06-.94-.94-2.06-.94 2.06-2.06.94zm-11 1L8.5 8.5l.94-2.06 2.06-.94-2.06-.94L8.5 2.5l-.94 2.06-2.06.94zm10 10l.94 2.06.94-2.06 2.06-.94-2.06-.94-.94-2.06-.94 2.06-2.06.94z\"/><path d=\"M17.41 7.96l-1.37-1.37c-.4-.4-.92-.59-1.43-.59-.52 0-1.04.2-1.43.59L10.3 9.45l-7.72 7.72c-.78.78-.78 2.05 0 2.83L4 21.41c.39.39.9.59 1.41.59.51 0 1.02-.2 1.41-.59l7.78-7.78 2.81-2.81c.8-.78.8-2.07 0-2.86zM5.41 20L4 18.59l7.72-7.72 1.47 1.35L5.41 20z\"/>\n",
              "  </svg>\n",
              "      </button>\n",
              "      \n",
              "  <style>\n",
              "    .colab-df-container {\n",
              "      display:flex;\n",
              "      flex-wrap:wrap;\n",
              "      gap: 12px;\n",
              "    }\n",
              "\n",
              "    .colab-df-convert {\n",
              "      background-color: #E8F0FE;\n",
              "      border: none;\n",
              "      border-radius: 50%;\n",
              "      cursor: pointer;\n",
              "      display: none;\n",
              "      fill: #1967D2;\n",
              "      height: 32px;\n",
              "      padding: 0 0 0 0;\n",
              "      width: 32px;\n",
              "    }\n",
              "\n",
              "    .colab-df-convert:hover {\n",
              "      background-color: #E2EBFA;\n",
              "      box-shadow: 0px 1px 2px rgba(60, 64, 67, 0.3), 0px 1px 3px 1px rgba(60, 64, 67, 0.15);\n",
              "      fill: #174EA6;\n",
              "    }\n",
              "\n",
              "    [theme=dark] .colab-df-convert {\n",
              "      background-color: #3B4455;\n",
              "      fill: #D2E3FC;\n",
              "    }\n",
              "\n",
              "    [theme=dark] .colab-df-convert:hover {\n",
              "      background-color: #434B5C;\n",
              "      box-shadow: 0px 1px 3px 1px rgba(0, 0, 0, 0.15);\n",
              "      filter: drop-shadow(0px 1px 2px rgba(0, 0, 0, 0.3));\n",
              "      fill: #FFFFFF;\n",
              "    }\n",
              "  </style>\n",
              "\n",
              "      <script>\n",
              "        const buttonEl =\n",
              "          document.querySelector('#df-2baf006f-d41b-4a07-8f38-0507ffafa488 button.colab-df-convert');\n",
              "        buttonEl.style.display =\n",
              "          google.colab.kernel.accessAllowed ? 'block' : 'none';\n",
              "\n",
              "        async function convertToInteractive(key) {\n",
              "          const element = document.querySelector('#df-2baf006f-d41b-4a07-8f38-0507ffafa488');\n",
              "          const dataTable =\n",
              "            await google.colab.kernel.invokeFunction('convertToInteractive',\n",
              "                                                     [key], {});\n",
              "          if (!dataTable) return;\n",
              "\n",
              "          const docLinkHtml = 'Like what you see? Visit the ' +\n",
              "            '<a target=\"_blank\" href=https://colab.research.google.com/notebooks/data_table.ipynb>data table notebook</a>'\n",
              "            + ' to learn more about interactive tables.';\n",
              "          element.innerHTML = '';\n",
              "          dataTable['output_type'] = 'display_data';\n",
              "          await google.colab.output.renderOutput(dataTable, element);\n",
              "          const docLink = document.createElement('div');\n",
              "          docLink.innerHTML = docLinkHtml;\n",
              "          element.appendChild(docLink);\n",
              "        }\n",
              "      </script>\n",
              "    </div>\n",
              "  </div>\n",
              "  "
            ],
            "text/plain": [
              "      User ID  Instagram visit score  Spending_rank(0 to 100)\n",
              "0           0                     63                24.050708\n",
              "1           1                     61                25.223290\n",
              "2           2                    104                18.528245\n",
              "3           3                     82                86.890232\n",
              "4           4                     14                31.492397\n",
              "...       ...                    ...                      ...\n",
              "2595     2595                     25                25.745908\n",
              "2596     2596                     52                 9.275066\n",
              "2597     2597                    100                84.999487\n",
              "2598     2598                     87                20.530806\n",
              "2599     2599                     34                76.388622\n",
              "\n",
              "[2600 rows x 3 columns]"
            ]
          },
          "metadata": {},
          "execution_count": 4
        }
      ]
    },
    {
      "cell_type": "code",
      "source": [
        "df=df1.sample(500)"
      ],
      "metadata": {
        "id": "vOwDEGEy2omL"
      },
      "execution_count": null,
      "outputs": []
    },
    {
      "cell_type": "code",
      "source": [
        "df.info()"
      ],
      "metadata": {
        "colab": {
          "base_uri": "https://localhost:8080/"
        },
        "id": "E0mU04KWuMQ4",
        "outputId": "544645f8-798c-4cd0-c5ac-4cd38da8c4b1"
      },
      "execution_count": null,
      "outputs": [
        {
          "output_type": "stream",
          "name": "stdout",
          "text": [
            "<class 'pandas.core.frame.DataFrame'>\n",
            "Int64Index: 500 entries, 1461 to 964\n",
            "Data columns (total 3 columns):\n",
            " #   Column                   Non-Null Count  Dtype  \n",
            "---  ------                   --------------  -----  \n",
            " 0   User ID                  500 non-null    int64  \n",
            " 1   Instagram visit score    500 non-null    int64  \n",
            " 2   Spending_rank(0 to 100)  500 non-null    float64\n",
            "dtypes: float64(1), int64(2)\n",
            "memory usage: 15.6 KB\n"
          ]
        }
      ]
    },
    {
      "cell_type": "code",
      "source": [
        "df.describe()"
      ],
      "metadata": {
        "colab": {
          "base_uri": "https://localhost:8080/",
          "height": 300
        },
        "id": "dMu6-qbYuTL_",
        "outputId": "2e26db8b-994e-40c6-bab9-155d282e2e94"
      },
      "execution_count": null,
      "outputs": [
        {
          "output_type": "execute_result",
          "data": {
            "text/html": [
              "\n",
              "  <div id=\"df-1a1173e8-4893-4992-9efe-64c584ccfe17\">\n",
              "    <div class=\"colab-df-container\">\n",
              "      <div>\n",
              "<style scoped>\n",
              "    .dataframe tbody tr th:only-of-type {\n",
              "        vertical-align: middle;\n",
              "    }\n",
              "\n",
              "    .dataframe tbody tr th {\n",
              "        vertical-align: top;\n",
              "    }\n",
              "\n",
              "    .dataframe thead th {\n",
              "        text-align: right;\n",
              "    }\n",
              "</style>\n",
              "<table border=\"1\" class=\"dataframe\">\n",
              "  <thead>\n",
              "    <tr style=\"text-align: right;\">\n",
              "      <th></th>\n",
              "      <th>User ID</th>\n",
              "      <th>Instagram visit score</th>\n",
              "      <th>Spending_rank(0 to 100)</th>\n",
              "    </tr>\n",
              "  </thead>\n",
              "  <tbody>\n",
              "    <tr>\n",
              "      <th>count</th>\n",
              "      <td>500.000000</td>\n",
              "      <td>500.000000</td>\n",
              "      <td>500.000000</td>\n",
              "    </tr>\n",
              "    <tr>\n",
              "      <th>mean</th>\n",
              "      <td>1317.594000</td>\n",
              "      <td>63.302000</td>\n",
              "      <td>44.286391</td>\n",
              "    </tr>\n",
              "    <tr>\n",
              "      <th>std</th>\n",
              "      <td>745.234289</td>\n",
              "      <td>26.121322</td>\n",
              "      <td>28.997651</td>\n",
              "    </tr>\n",
              "    <tr>\n",
              "      <th>min</th>\n",
              "      <td>1.000000</td>\n",
              "      <td>7.000000</td>\n",
              "      <td>3.547375</td>\n",
              "    </tr>\n",
              "    <tr>\n",
              "      <th>25%</th>\n",
              "      <td>660.250000</td>\n",
              "      <td>38.750000</td>\n",
              "      <td>20.516278</td>\n",
              "    </tr>\n",
              "    <tr>\n",
              "      <th>50%</th>\n",
              "      <td>1349.000000</td>\n",
              "      <td>72.000000</td>\n",
              "      <td>28.953900</td>\n",
              "    </tr>\n",
              "    <tr>\n",
              "      <th>75%</th>\n",
              "      <td>1941.000000</td>\n",
              "      <td>85.000000</td>\n",
              "      <td>73.996808</td>\n",
              "    </tr>\n",
              "    <tr>\n",
              "      <th>max</th>\n",
              "      <td>2593.000000</td>\n",
              "      <td>109.000000</td>\n",
              "      <td>104.929548</td>\n",
              "    </tr>\n",
              "  </tbody>\n",
              "</table>\n",
              "</div>\n",
              "      <button class=\"colab-df-convert\" onclick=\"convertToInteractive('df-1a1173e8-4893-4992-9efe-64c584ccfe17')\"\n",
              "              title=\"Convert this dataframe to an interactive table.\"\n",
              "              style=\"display:none;\">\n",
              "        \n",
              "  <svg xmlns=\"http://www.w3.org/2000/svg\" height=\"24px\"viewBox=\"0 0 24 24\"\n",
              "       width=\"24px\">\n",
              "    <path d=\"M0 0h24v24H0V0z\" fill=\"none\"/>\n",
              "    <path d=\"M18.56 5.44l.94 2.06.94-2.06 2.06-.94-2.06-.94-.94-2.06-.94 2.06-2.06.94zm-11 1L8.5 8.5l.94-2.06 2.06-.94-2.06-.94L8.5 2.5l-.94 2.06-2.06.94zm10 10l.94 2.06.94-2.06 2.06-.94-2.06-.94-.94-2.06-.94 2.06-2.06.94z\"/><path d=\"M17.41 7.96l-1.37-1.37c-.4-.4-.92-.59-1.43-.59-.52 0-1.04.2-1.43.59L10.3 9.45l-7.72 7.72c-.78.78-.78 2.05 0 2.83L4 21.41c.39.39.9.59 1.41.59.51 0 1.02-.2 1.41-.59l7.78-7.78 2.81-2.81c.8-.78.8-2.07 0-2.86zM5.41 20L4 18.59l7.72-7.72 1.47 1.35L5.41 20z\"/>\n",
              "  </svg>\n",
              "      </button>\n",
              "      \n",
              "  <style>\n",
              "    .colab-df-container {\n",
              "      display:flex;\n",
              "      flex-wrap:wrap;\n",
              "      gap: 12px;\n",
              "    }\n",
              "\n",
              "    .colab-df-convert {\n",
              "      background-color: #E8F0FE;\n",
              "      border: none;\n",
              "      border-radius: 50%;\n",
              "      cursor: pointer;\n",
              "      display: none;\n",
              "      fill: #1967D2;\n",
              "      height: 32px;\n",
              "      padding: 0 0 0 0;\n",
              "      width: 32px;\n",
              "    }\n",
              "\n",
              "    .colab-df-convert:hover {\n",
              "      background-color: #E2EBFA;\n",
              "      box-shadow: 0px 1px 2px rgba(60, 64, 67, 0.3), 0px 1px 3px 1px rgba(60, 64, 67, 0.15);\n",
              "      fill: #174EA6;\n",
              "    }\n",
              "\n",
              "    [theme=dark] .colab-df-convert {\n",
              "      background-color: #3B4455;\n",
              "      fill: #D2E3FC;\n",
              "    }\n",
              "\n",
              "    [theme=dark] .colab-df-convert:hover {\n",
              "      background-color: #434B5C;\n",
              "      box-shadow: 0px 1px 3px 1px rgba(0, 0, 0, 0.15);\n",
              "      filter: drop-shadow(0px 1px 2px rgba(0, 0, 0, 0.3));\n",
              "      fill: #FFFFFF;\n",
              "    }\n",
              "  </style>\n",
              "\n",
              "      <script>\n",
              "        const buttonEl =\n",
              "          document.querySelector('#df-1a1173e8-4893-4992-9efe-64c584ccfe17 button.colab-df-convert');\n",
              "        buttonEl.style.display =\n",
              "          google.colab.kernel.accessAllowed ? 'block' : 'none';\n",
              "\n",
              "        async function convertToInteractive(key) {\n",
              "          const element = document.querySelector('#df-1a1173e8-4893-4992-9efe-64c584ccfe17');\n",
              "          const dataTable =\n",
              "            await google.colab.kernel.invokeFunction('convertToInteractive',\n",
              "                                                     [key], {});\n",
              "          if (!dataTable) return;\n",
              "\n",
              "          const docLinkHtml = 'Like what you see? Visit the ' +\n",
              "            '<a target=\"_blank\" href=https://colab.research.google.com/notebooks/data_table.ipynb>data table notebook</a>'\n",
              "            + ' to learn more about interactive tables.';\n",
              "          element.innerHTML = '';\n",
              "          dataTable['output_type'] = 'display_data';\n",
              "          await google.colab.output.renderOutput(dataTable, element);\n",
              "          const docLink = document.createElement('div');\n",
              "          docLink.innerHTML = docLinkHtml;\n",
              "          element.appendChild(docLink);\n",
              "        }\n",
              "      </script>\n",
              "    </div>\n",
              "  </div>\n",
              "  "
            ],
            "text/plain": [
              "           User ID  Instagram visit score  Spending_rank(0 to 100)\n",
              "count   500.000000             500.000000               500.000000\n",
              "mean   1317.594000              63.302000                44.286391\n",
              "std     745.234289              26.121322                28.997651\n",
              "min       1.000000               7.000000                 3.547375\n",
              "25%     660.250000              38.750000                20.516278\n",
              "50%    1349.000000              72.000000                28.953900\n",
              "75%    1941.000000              85.000000                73.996808\n",
              "max    2593.000000             109.000000               104.929548"
            ]
          },
          "metadata": {},
          "execution_count": 8
        }
      ]
    },
    {
      "cell_type": "code",
      "source": [
        "df.isnull().sum()"
      ],
      "metadata": {
        "colab": {
          "base_uri": "https://localhost:8080/"
        },
        "id": "AXN-qkqeuyPm",
        "outputId": "63fd7b9f-7669-4bbd-a06f-470b6174cf53"
      },
      "execution_count": null,
      "outputs": [
        {
          "output_type": "execute_result",
          "data": {
            "text/plain": [
              "User ID                    0\n",
              "Instagram visit score      0\n",
              "Spending_rank(0 to 100)    0\n",
              "dtype: int64"
            ]
          },
          "metadata": {},
          "execution_count": 9
        }
      ]
    },
    {
      "cell_type": "code",
      "source": [
        "df.corr()"
      ],
      "metadata": {
        "colab": {
          "base_uri": "https://localhost:8080/",
          "height": 143
        },
        "id": "b_wvzmEYj985",
        "outputId": "fa6bc511-6ca5-48a5-dbc0-2c8a3b6144d6"
      },
      "execution_count": null,
      "outputs": [
        {
          "output_type": "execute_result",
          "data": {
            "text/html": [
              "\n",
              "  <div id=\"df-c1eb0ea7-0db2-4f47-80ac-f67ee3d8045d\">\n",
              "    <div class=\"colab-df-container\">\n",
              "      <div>\n",
              "<style scoped>\n",
              "    .dataframe tbody tr th:only-of-type {\n",
              "        vertical-align: middle;\n",
              "    }\n",
              "\n",
              "    .dataframe tbody tr th {\n",
              "        vertical-align: top;\n",
              "    }\n",
              "\n",
              "    .dataframe thead th {\n",
              "        text-align: right;\n",
              "    }\n",
              "</style>\n",
              "<table border=\"1\" class=\"dataframe\">\n",
              "  <thead>\n",
              "    <tr style=\"text-align: right;\">\n",
              "      <th></th>\n",
              "      <th>User ID</th>\n",
              "      <th>Instagram visit score</th>\n",
              "      <th>Spending_rank(0 to 100)</th>\n",
              "    </tr>\n",
              "  </thead>\n",
              "  <tbody>\n",
              "    <tr>\n",
              "      <th>User ID</th>\n",
              "      <td>1.000000</td>\n",
              "      <td>0.035897</td>\n",
              "      <td>0.116456</td>\n",
              "    </tr>\n",
              "    <tr>\n",
              "      <th>Instagram visit score</th>\n",
              "      <td>0.035897</td>\n",
              "      <td>1.000000</td>\n",
              "      <td>0.047703</td>\n",
              "    </tr>\n",
              "    <tr>\n",
              "      <th>Spending_rank(0 to 100)</th>\n",
              "      <td>0.116456</td>\n",
              "      <td>0.047703</td>\n",
              "      <td>1.000000</td>\n",
              "    </tr>\n",
              "  </tbody>\n",
              "</table>\n",
              "</div>\n",
              "      <button class=\"colab-df-convert\" onclick=\"convertToInteractive('df-c1eb0ea7-0db2-4f47-80ac-f67ee3d8045d')\"\n",
              "              title=\"Convert this dataframe to an interactive table.\"\n",
              "              style=\"display:none;\">\n",
              "        \n",
              "  <svg xmlns=\"http://www.w3.org/2000/svg\" height=\"24px\"viewBox=\"0 0 24 24\"\n",
              "       width=\"24px\">\n",
              "    <path d=\"M0 0h24v24H0V0z\" fill=\"none\"/>\n",
              "    <path d=\"M18.56 5.44l.94 2.06.94-2.06 2.06-.94-2.06-.94-.94-2.06-.94 2.06-2.06.94zm-11 1L8.5 8.5l.94-2.06 2.06-.94-2.06-.94L8.5 2.5l-.94 2.06-2.06.94zm10 10l.94 2.06.94-2.06 2.06-.94-2.06-.94-.94-2.06-.94 2.06-2.06.94z\"/><path d=\"M17.41 7.96l-1.37-1.37c-.4-.4-.92-.59-1.43-.59-.52 0-1.04.2-1.43.59L10.3 9.45l-7.72 7.72c-.78.78-.78 2.05 0 2.83L4 21.41c.39.39.9.59 1.41.59.51 0 1.02-.2 1.41-.59l7.78-7.78 2.81-2.81c.8-.78.8-2.07 0-2.86zM5.41 20L4 18.59l7.72-7.72 1.47 1.35L5.41 20z\"/>\n",
              "  </svg>\n",
              "      </button>\n",
              "      \n",
              "  <style>\n",
              "    .colab-df-container {\n",
              "      display:flex;\n",
              "      flex-wrap:wrap;\n",
              "      gap: 12px;\n",
              "    }\n",
              "\n",
              "    .colab-df-convert {\n",
              "      background-color: #E8F0FE;\n",
              "      border: none;\n",
              "      border-radius: 50%;\n",
              "      cursor: pointer;\n",
              "      display: none;\n",
              "      fill: #1967D2;\n",
              "      height: 32px;\n",
              "      padding: 0 0 0 0;\n",
              "      width: 32px;\n",
              "    }\n",
              "\n",
              "    .colab-df-convert:hover {\n",
              "      background-color: #E2EBFA;\n",
              "      box-shadow: 0px 1px 2px rgba(60, 64, 67, 0.3), 0px 1px 3px 1px rgba(60, 64, 67, 0.15);\n",
              "      fill: #174EA6;\n",
              "    }\n",
              "\n",
              "    [theme=dark] .colab-df-convert {\n",
              "      background-color: #3B4455;\n",
              "      fill: #D2E3FC;\n",
              "    }\n",
              "\n",
              "    [theme=dark] .colab-df-convert:hover {\n",
              "      background-color: #434B5C;\n",
              "      box-shadow: 0px 1px 3px 1px rgba(0, 0, 0, 0.15);\n",
              "      filter: drop-shadow(0px 1px 2px rgba(0, 0, 0, 0.3));\n",
              "      fill: #FFFFFF;\n",
              "    }\n",
              "  </style>\n",
              "\n",
              "      <script>\n",
              "        const buttonEl =\n",
              "          document.querySelector('#df-c1eb0ea7-0db2-4f47-80ac-f67ee3d8045d button.colab-df-convert');\n",
              "        buttonEl.style.display =\n",
              "          google.colab.kernel.accessAllowed ? 'block' : 'none';\n",
              "\n",
              "        async function convertToInteractive(key) {\n",
              "          const element = document.querySelector('#df-c1eb0ea7-0db2-4f47-80ac-f67ee3d8045d');\n",
              "          const dataTable =\n",
              "            await google.colab.kernel.invokeFunction('convertToInteractive',\n",
              "                                                     [key], {});\n",
              "          if (!dataTable) return;\n",
              "\n",
              "          const docLinkHtml = 'Like what you see? Visit the ' +\n",
              "            '<a target=\"_blank\" href=https://colab.research.google.com/notebooks/data_table.ipynb>data table notebook</a>'\n",
              "            + ' to learn more about interactive tables.';\n",
              "          element.innerHTML = '';\n",
              "          dataTable['output_type'] = 'display_data';\n",
              "          await google.colab.output.renderOutput(dataTable, element);\n",
              "          const docLink = document.createElement('div');\n",
              "          docLink.innerHTML = docLinkHtml;\n",
              "          element.appendChild(docLink);\n",
              "        }\n",
              "      </script>\n",
              "    </div>\n",
              "  </div>\n",
              "  "
            ],
            "text/plain": [
              "                          User ID  ...  Spending_rank(0 to 100)\n",
              "User ID                  1.000000  ...                 0.116456\n",
              "Instagram visit score    0.035897  ...                 0.047703\n",
              "Spending_rank(0 to 100)  0.116456  ...                 1.000000\n",
              "\n",
              "[3 rows x 3 columns]"
            ]
          },
          "metadata": {},
          "execution_count": 10
        }
      ]
    },
    {
      "cell_type": "code",
      "source": [
        "plt.figure(figsize=(15,6))\n",
        "plt.subplot(1,2,1)\n",
        "sns.boxplot(y=df[\"Instagram visit score\"], color=\"red\")\n",
        "plt.subplot(1,2,2)\n",
        "sns.boxplot(y=df[\"Spending_rank(0 to 100)\"])\n",
        "plt.show()\n"
      ],
      "metadata": {
        "colab": {
          "base_uri": "https://localhost:8080/",
          "height": 361
        },
        "id": "x9X3QJUrvBm4",
        "outputId": "53f33eda-be3e-40a0-9a7e-9d1c26e96a81"
      },
      "execution_count": null,
      "outputs": [
        {
          "output_type": "display_data",
          "data": {
            "image/png": "[encoded data removed]",
            "text/plain": [
              "<Figure size 1080x432 with 2 Axes>"
            ]
          },
          "metadata": {
            "needs_background": "light"
          }
        }
      ]
    },
    {
      "cell_type": "code",
      "source": [
        "df = df.drop(columns=['User ID'],axis=1)"
      ],
      "metadata": {
        "id": "GTu-c0OmxdOm"
      },
      "execution_count": null,
      "outputs": []
    },
    {
      "cell_type": "code",
      "source": [
        "sns.pairplot(df)"
      ],
      "metadata": {
        "colab": {
          "base_uri": "https://localhost:8080/",
          "height": 391
        },
        "id": "7idKHIq2xTsc",
        "outputId": "e9f30761-ceac-484d-f0b3-dcd0630930fc"
      },
      "execution_count": null,
      "outputs": [
        {
          "output_type": "execute_result",
          "data": {
            "text/plain": [
              "<seaborn.axisgrid.PairGrid at 0x7f9e3e47b7d0>"
            ]
          },
          "metadata": {},
          "execution_count": 13
        },
        {
          "output_type": "display_data",
          "data": {
            "image/png": "[encoded data removed]",
            "text/plain": [
              "<Figure size 360x360 with 6 Axes>"
            ]
          },
          "metadata": {
            "needs_background": "light"
          }
        }
      ]
    },
    {
      "cell_type": "code",
      "source": [
        "from sklearn.cluster import KMeans"
      ],
      "metadata": {
        "id": "lF1M1W7yyTX-"
      },
      "execution_count": null,
      "outputs": []
    },
    {
      "cell_type": "code",
      "source": [
        "x = df[['Instagram visit score','Spending_rank(0 to 100)']].values\n",
        "x"
      ],
      "metadata": {
        "colab": {
          "base_uri": "https://localhost:8080/"
        },
        "id": "c3IsSsxkyU0z",
        "outputId": "1e5fe03b-17f7-48aa-964c-87b5eec2c960"
      },
      "execution_count": null,
      "outputs": [
        {
          "output_type": "execute_result",
          "data": {
            "text/plain": [
              "array([[ 87.        ,  16.71144156],\n",
              "       [ 24.        ,  19.89866347],\n",
              "       [ 71.        ,  80.72973996],\n",
              "       [ 40.        ,  78.77810516],\n",
              "       [ 84.        ,  85.71251997],\n",
              "       [ 87.        ,  18.46994096],\n",
              "       [ 39.        ,  71.6091871 ],\n",
              "       [ 51.        ,  61.8967813 ],\n",
              "       [ 32.        ,  69.46708965],\n",
              "       [ 40.        ,  78.51086906],\n",
              "       [ 88.        ,  21.18988948],\n",
              "       [ 26.        ,  40.99115058],\n",
              "       [ 74.        ,  81.15390938],\n",
              "       [ 93.        ,  12.91347352],\n",
              "       [ 83.        ,   9.11496126],\n",
              "       [ 91.        ,  14.15057563],\n",
              "       [ 72.        ,   9.63691243],\n",
              "       [ 41.        ,  73.92483537],\n",
              "       [ 95.        ,  85.71835635],\n",
              "       [ 39.        ,  67.0075317 ],\n",
              "       [ 21.        ,  25.13109369],\n",
              "       [ 91.        ,  13.1151177 ],\n",
              "       [ 20.        ,  10.86560616],\n",
              "       [ 44.        ,  60.6765901 ],\n",
              "       [ 58.        ,  33.45836604],\n",
              "       [ 18.        ,  26.44565387],\n",
              "       [ 60.        ,  31.82224229],\n",
              "       [ 42.        ,  74.82698453],\n",
              "       [ 90.        ,  23.84538143],\n",
              "       [ 48.        ,  70.02793767],\n",
              "       [ 66.        ,  22.45299657],\n",
              "       [ 84.        ,  14.67859242],\n",
              "       [ 21.        ,  30.43276379],\n",
              "       [ 26.        ,  35.9070513 ],\n",
              "       [ 27.        ,  40.15782671],\n",
              "       [ 50.        ,  15.60259981],\n",
              "       [ 49.        ,  69.03035145],\n",
              "       [ 65.        ,  19.50883719],\n",
              "       [ 11.        ,  27.66611345],\n",
              "       [ 51.        ,  60.53349594],\n",
              "       [ 94.        ,   6.97818647],\n",
              "       [ 56.        ,  22.78858311],\n",
              "       [ 31.        ,  29.40444535],\n",
              "       [ 85.        ,  89.54873251],\n",
              "       [ 87.        ,  24.56721756],\n",
              "       [ 39.        ,  49.65205148],\n",
              "       [ 98.        ,  92.58891373],\n",
              "       [ 97.        ,  25.77748159],\n",
              "       [ 44.        ,  60.89597942],\n",
              "       [ 51.        ,  20.35299571],\n",
              "       [ 75.        ,  89.58293413],\n",
              "       [ 36.        ,  54.35574439],\n",
              "       [ 21.        ,  20.12996554],\n",
              "       [ 74.        ,  91.38556503],\n",
              "       [ 78.        ,  22.45717384],\n",
              "       [ 89.        ,  24.98108037],\n",
              "       [ 66.        ,  19.00573989],\n",
              "       [ 70.        ,  21.09830578],\n",
              "       [ 29.        ,  74.99604002],\n",
              "       [ 71.        ,  86.76715643],\n",
              "       [ 83.        ,  27.42591038],\n",
              "       [109.        ,  14.39395116],\n",
              "       [ 20.        ,  24.60574528],\n",
              "       [ 42.        ,  80.829564  ],\n",
              "       [ 48.        ,  71.67031931],\n",
              "       [ 31.        ,  24.13669399],\n",
              "       [ 32.        ,  28.0390306 ],\n",
              "       [ 71.        ,  70.46155784],\n",
              "       [ 54.        ,  33.02581218],\n",
              "       [ 78.        ,  79.56038465],\n",
              "       [ 79.        ,  84.26240882],\n",
              "       [ 65.        ,  27.98986619],\n",
              "       [ 25.        ,  38.3940287 ],\n",
              "       [ 79.        ,  22.79881039],\n",
              "       [ 84.        ,  11.2317819 ],\n",
              "       [ 28.        ,  30.07681026],\n",
              "       [ 30.        ,  65.17408703],\n",
              "       [ 27.        ,  28.09653115],\n",
              "       [ 65.        ,  17.98720449],\n",
              "       [ 80.        ,  30.61155602],\n",
              "       [ 36.        ,  66.36574834],\n",
              "       [ 85.        ,  21.28432659],\n",
              "       [ 72.        ,  81.51304297],\n",
              "       [ 88.        ,  73.05827884],\n",
              "       [ 70.        ,  89.42694256],\n",
              "       [ 86.        ,  22.05812746],\n",
              "       [ 61.        ,  21.5110996 ],\n",
              "       [ 51.        ,  66.73264012],\n",
              "       [ 21.        ,  29.83791455],\n",
              "       [ 80.        ,  99.92269808],\n",
              "       [ 90.        ,  16.52733684],\n",
              "       [ 82.        ,  27.60479116],\n",
              "       [ 36.        ,  28.90977811],\n",
              "       [ 29.        ,  39.55775005],\n",
              "       [ 30.        ,  17.04083284],\n",
              "       [ 80.        ,  80.93741238],\n",
              "       [ 80.        ,  23.12074726],\n",
              "       [ 28.        ,  32.85979117],\n",
              "       [ 34.        ,  25.4864208 ],\n",
              "       [ 73.        ,  12.25126419],\n",
              "       [ 19.        ,  23.87774095],\n",
              "       [ 80.        ,  83.69835663],\n",
              "       [ 78.        ,  80.52421884],\n",
              "       [ 16.        ,  30.88718141],\n",
              "       [ 87.        ,  26.40982047],\n",
              "       [ 26.        ,  51.05357296],\n",
              "       [ 18.        ,  18.25793383],\n",
              "       [ 80.        ,  85.54864535],\n",
              "       [ 26.        ,  32.32479277],\n",
              "       [ 82.        ,  24.25152029],\n",
              "       [ 97.        ,   4.9615593 ],\n",
              "       [ 68.        ,  84.23969179],\n",
              "       [ 68.        ,  93.39780794],\n",
              "       [ 88.        ,  90.34840237],\n",
              "       [ 85.        ,  85.02332814],\n",
              "       [ 87.        ,  12.50427488],\n",
              "       [ 64.        ,  92.48481939],\n",
              "       [ 70.        ,  80.16871289],\n",
              "       [ 80.        ,  19.30231892],\n",
              "       [ 72.        ,  74.77691749],\n",
              "       [ 29.        ,  23.32993675],\n",
              "       [ 90.        ,  36.48722254],\n",
              "       [ 83.        ,  84.01523569],\n",
              "       [ 90.        ,  21.3758769 ],\n",
              "       [102.        ,  30.60811282],\n",
              "       [ 81.        ,  94.92318481],\n",
              "       [ 88.        ,  70.36066879],\n",
              "       [ 69.        ,  78.56928699],\n",
              "       [ 64.        ,  26.69355415],\n",
              "       [ 99.        ,  18.17147152],\n",
              "       [ 28.        ,  11.27694692],\n",
              "       [ 85.        , 104.9295479 ],\n",
              "       [ 93.        ,  29.85615825],\n",
              "       [ 89.        ,  17.02860916],\n",
              "       [ 44.        ,  65.02712226],\n",
              "       [ 82.        ,  15.57815058],\n",
              "       [ 83.        ,  93.97652308],\n",
              "       [ 85.        ,  22.51329215],\n",
              "       [ 81.        ,  10.16772222],\n",
              "       [ 21.        ,  28.61111105],\n",
              "       [ 78.        ,  81.55022856],\n",
              "       [ 81.        ,  81.00433625],\n",
              "       [ 24.        ,  23.02046989],\n",
              "       [ 47.        ,  65.18594494],\n",
              "       [ 77.        ,  33.4815454 ],\n",
              "       [ 79.        ,  94.0553124 ],\n",
              "       [ 57.        ,  35.17603962],\n",
              "       [ 81.        ,  77.10416788],\n",
              "       [ 39.        ,  36.10386094],\n",
              "       [106.        ,  23.51228681],\n",
              "       [ 80.        ,  74.03671507],\n",
              "       [ 40.        ,  61.29851112],\n",
              "       [ 85.        ,  23.78611592],\n",
              "       [ 31.        ,  20.11730805],\n",
              "       [ 83.        ,  96.94319281],\n",
              "       [ 72.        ,  86.23887301],\n",
              "       [ 38.        ,  68.21219196],\n",
              "       [ 87.        ,  94.23457065],\n",
              "       [ 83.        ,  15.54859762],\n",
              "       [ 84.        ,  20.00936342],\n",
              "       [ 32.        ,   9.6450729 ],\n",
              "       [ 85.        ,  24.25293659],\n",
              "       [ 29.        ,  12.98456758],\n",
              "       [ 91.        ,  20.73313102],\n",
              "       [ 82.        ,  86.4001057 ],\n",
              "       [ 41.        ,  70.21638734],\n",
              "       [ 98.        ,  84.87036186],\n",
              "       [ 84.        ,  25.48470216],\n",
              "       [ 82.        ,  29.37927374],\n",
              "       [  7.        ,  26.88613311],\n",
              "       [ 75.        ,  79.39103746],\n",
              "       [ 82.        ,  76.4190769 ],\n",
              "       [103.        ,  23.110057  ],\n",
              "       [ 34.        ,  18.38185886],\n",
              "       [ 26.        ,  21.98664298],\n",
              "       [ 98.        ,  19.04699628],\n",
              "       [ 63.        ,  12.73860452],\n",
              "       [ 97.        ,  27.78083598],\n",
              "       [ 40.        ,  70.0125424 ],\n",
              "       [ 38.        ,  73.94930852],\n",
              "       [ 78.        ,  83.75155205],\n",
              "       [ 79.        ,  87.41820792],\n",
              "       [ 86.        ,  30.36636416],\n",
              "       [ 77.        ,  81.84545235],\n",
              "       [ 91.        ,  95.67606276],\n",
              "       [ 84.        ,  16.2029485 ],\n",
              "       [ 77.        ,  73.98350592],\n",
              "       [ 78.        ,  95.6517161 ],\n",
              "       [ 26.        ,  18.33459807],\n",
              "       [ 92.        ,  11.75923657],\n",
              "       [ 30.        ,  31.17628115],\n",
              "       [ 76.        ,  26.22789504],\n",
              "       [ 51.        ,  10.89198963],\n",
              "       [ 29.        ,  28.29282218],\n",
              "       [ 84.        ,  80.593889  ],\n",
              "       [ 88.        ,  73.22009055],\n",
              "       [ 47.        ,  63.48961593],\n",
              "       [ 76.        ,  86.27948651],\n",
              "       [ 92.        ,  27.57283891],\n",
              "       [ 42.        ,  53.55666866],\n",
              "       [ 40.        ,  55.90060752],\n",
              "       [ 80.        ,  26.66295582],\n",
              "       [ 66.        ,  98.28742501],\n",
              "       [ 45.        ,  68.23914113],\n",
              "       [ 87.        ,  11.14785795],\n",
              "       [ 91.        ,  12.45225859],\n",
              "       [ 86.        ,   4.86288599],\n",
              "       [ 28.        ,  24.12922046],\n",
              "       [ 76.        ,  91.84905254],\n",
              "       [ 99.        ,  11.41480527],\n",
              "       [ 26.        ,  27.47217237],\n",
              "       [ 78.        ,  86.40234561],\n",
              "       [ 89.        ,  21.95099679],\n",
              "       [ 95.        ,  17.81718903],\n",
              "       [ 51.        ,  15.89361424],\n",
              "       [ 32.        ,  21.05769555],\n",
              "       [ 93.        ,  14.00304875],\n",
              "       [ 81.        ,  26.66173993],\n",
              "       [ 82.        ,  93.47888001],\n",
              "       [ 46.        ,  52.31751679],\n",
              "       [ 65.        ,  16.8400431 ],\n",
              "       [ 26.        ,  27.947972  ],\n",
              "       [ 71.        ,  24.85975843],\n",
              "       [ 57.        ,  11.31347611],\n",
              "       [ 62.        ,  18.96665589],\n",
              "       [ 35.        ,  67.52190515],\n",
              "       [ 53.        ,  18.26673794],\n",
              "       [102.        ,  25.34762172],\n",
              "       [ 89.        ,  13.67288295],\n",
              "       [ 78.        ,  13.86121895],\n",
              "       [ 43.        ,  65.75795633],\n",
              "       [ 24.        ,  28.07948876],\n",
              "       [ 87.        ,  16.33575334],\n",
              "       [ 22.        ,  25.42124007],\n",
              "       [ 21.        ,  43.0934026 ],\n",
              "       [ 18.        ,  26.8937247 ],\n",
              "       [ 82.        ,  75.67791771],\n",
              "       [ 85.        ,  18.75385148],\n",
              "       [ 47.        ,  65.76544843],\n",
              "       [ 93.        ,  19.97177887],\n",
              "       [ 12.        ,  27.90460357],\n",
              "       [ 60.        ,  20.12253563],\n",
              "       [ 85.        ,  79.56108473],\n",
              "       [ 56.        ,  11.76877509],\n",
              "       [ 19.        ,  15.89441948],\n",
              "       [ 32.        ,  25.65663431],\n",
              "       [ 26.        ,  29.76273578],\n",
              "       [ 86.        ,  17.87451669],\n",
              "       [ 78.        ,  82.52693226],\n",
              "       [ 83.        ,  21.42124728],\n",
              "       [ 98.        ,  22.76002744],\n",
              "       [ 86.        ,  18.47321996],\n",
              "       [ 85.        ,   8.59970536],\n",
              "       [ 30.        ,  72.04710795],\n",
              "       [ 78.        ,  89.63816282],\n",
              "       [ 58.        ,  18.14904832],\n",
              "       [101.        ,  26.36836409],\n",
              "       [ 79.        ,  91.28137504],\n",
              "       [ 77.        ,  23.22784164],\n",
              "       [ 82.        ,  78.9532322 ],\n",
              "       [ 45.        ,  24.445565  ],\n",
              "       [ 93.        ,  23.60727388],\n",
              "       [ 75.        , 102.0254409 ],\n",
              "       [ 93.        ,  19.92757073],\n",
              "       [ 87.        ,  90.93473461],\n",
              "       [ 95.        ,  16.82158814],\n",
              "       [ 44.        ,  64.01321817],\n",
              "       [108.        ,  21.45373803],\n",
              "       [ 23.        ,  23.63316412],\n",
              "       [ 60.        ,  19.30915914],\n",
              "       [ 86.        ,  87.12735245],\n",
              "       [ 74.        ,  67.2278253 ],\n",
              "       [ 82.        ,  11.65320579],\n",
              "       [ 16.        ,  30.85898576],\n",
              "       [ 92.        ,  92.98849481],\n",
              "       [ 42.        ,  55.05216131],\n",
              "       [ 82.        ,  36.20009831],\n",
              "       [ 70.        ,  26.80774098],\n",
              "       [ 56.        ,  16.97405612],\n",
              "       [ 65.        ,  28.28433855],\n",
              "       [ 78.        ,  24.1772309 ],\n",
              "       [ 88.        ,  93.27210552],\n",
              "       [ 27.        ,  77.22486683],\n",
              "       [ 79.        ,  95.31956184],\n",
              "       [ 54.        ,  13.19524909],\n",
              "       [ 86.        ,  18.23979234],\n",
              "       [ 82.        ,  79.46907855],\n",
              "       [ 27.        ,  29.62664916],\n",
              "       [ 40.        ,  57.37237849],\n",
              "       [ 86.        ,  26.74225546],\n",
              "       [ 60.        ,  24.57793823],\n",
              "       [ 72.        ,  12.46141677],\n",
              "       [ 43.        ,  60.81734405],\n",
              "       [ 88.        ,  23.18189464],\n",
              "       [ 64.        ,  25.3695417 ],\n",
              "       [ 83.        ,  76.87754403],\n",
              "       [ 85.        ,  86.17131293],\n",
              "       [ 83.        ,  77.86006242],\n",
              "       [ 28.        ,  26.34094649],\n",
              "       [ 82.        ,  83.25237657],\n",
              "       [ 76.        ,  88.96329074],\n",
              "       [ 83.        ,  12.89944692],\n",
              "       [ 91.        ,  17.06901503],\n",
              "       [ 22.        ,  16.30434613],\n",
              "       [ 89.        ,  19.14941277],\n",
              "       [ 82.        ,  11.37171673],\n",
              "       [ 83.        ,  23.61560457],\n",
              "       [ 85.        ,  92.60701831],\n",
              "       [ 90.        ,  26.65148515],\n",
              "       [ 18.        ,  34.84352775],\n",
              "       [ 88.        ,  13.31953113],\n",
              "       [ 32.        ,  58.51963896],\n",
              "       [ 51.        ,  27.47569732],\n",
              "       [ 30.        ,  16.08291284],\n",
              "       [ 84.        ,  86.09920913],\n",
              "       [ 98.        ,  15.68558004],\n",
              "       [ 73.        ,  96.32131689],\n",
              "       [ 41.        ,  60.67080782],\n",
              "       [ 85.        ,  86.19000662],\n",
              "       [ 91.        ,  33.75076521],\n",
              "       [ 78.        ,  88.44596944],\n",
              "       [ 81.        ,  88.10804408],\n",
              "       [ 19.        ,  18.80171096],\n",
              "       [ 98.        ,  23.00398013],\n",
              "       [ 15.        ,  32.25584613],\n",
              "       [ 30.        ,  76.48826316],\n",
              "       [ 95.        ,  20.54964074],\n",
              "       [ 23.        ,  28.34044938],\n",
              "       [ 17.        ,  24.41608933],\n",
              "       [ 99.        ,  21.6342754 ],\n",
              "       [ 19.        ,  29.16840223],\n",
              "       [ 96.        ,  36.5847825 ],\n",
              "       [ 25.        ,  27.26853923],\n",
              "       [ 76.        ,  90.61974666],\n",
              "       [ 33.        ,  78.6336981 ],\n",
              "       [ 85.        ,  22.74193595],\n",
              "       [ 32.        ,  24.73678617],\n",
              "       [ 72.        ,  78.62789484],\n",
              "       [ 85.        ,  20.58885519],\n",
              "       [ 42.        ,  67.72313499],\n",
              "       [ 84.        ,  81.62560166],\n",
              "       [ 78.        ,  27.57820665],\n",
              "       [ 26.        ,  59.65004757],\n",
              "       [ 67.        ,  83.87051009],\n",
              "       [ 45.        ,  79.30291882],\n",
              "       [ 80.        ,  23.85503135],\n",
              "       [ 19.        ,  30.09981133],\n",
              "       [ 85.        ,  26.39622326],\n",
              "       [ 78.        ,  26.46611043],\n",
              "       [ 83.        ,  78.87354191],\n",
              "       [ 91.        ,   3.54737486],\n",
              "       [ 87.        ,  36.90712774],\n",
              "       [ 71.        ,  64.98953989],\n",
              "       [ 13.        ,  25.47446496],\n",
              "       [ 30.        ,  73.09347987],\n",
              "       [ 38.        ,  24.00258683],\n",
              "       [ 83.        ,  18.98142618],\n",
              "       [ 35.        ,  59.39812747],\n",
              "       [ 42.        ,  15.4062917 ],\n",
              "       [ 79.        ,  70.30288484],\n",
              "       [ 19.        ,  24.17208026],\n",
              "       [ 91.        ,  19.7525264 ],\n",
              "       [ 76.        ,  93.09412582],\n",
              "       [ 19.        ,  27.45221947],\n",
              "       [ 39.        ,  77.62593462],\n",
              "       [ 61.        ,  11.32237039],\n",
              "       [ 95.        ,  82.08069404],\n",
              "       [ 24.        ,  56.36637398],\n",
              "       [ 82.        ,  14.85335365],\n",
              "       [ 36.        ,  67.81226544],\n",
              "       [ 37.        ,  62.23688419],\n",
              "       [ 69.        ,  81.31335721],\n",
              "       [ 90.        ,  21.85779784],\n",
              "       [ 33.        ,  78.69414314],\n",
              "       [ 94.        ,  13.90612965],\n",
              "       [ 21.        ,  21.71444274],\n",
              "       [100.        ,  20.41619169],\n",
              "       [ 93.        ,  27.59099892],\n",
              "       [ 56.        ,  27.12054143],\n",
              "       [ 95.        ,  21.94874371],\n",
              "       [ 90.        ,  83.30407205],\n",
              "       [ 48.        ,  36.82701421],\n",
              "       [ 21.        ,  16.11485057],\n",
              "       [ 37.        ,  71.80743969],\n",
              "       [ 90.        ,  87.56556129],\n",
              "       [ 32.        ,  66.83738905],\n",
              "       [ 91.        ,  19.1283317 ],\n",
              "       [ 29.        ,  27.62240843],\n",
              "       [ 94.        ,  14.97405577],\n",
              "       [ 67.        ,  23.59321418],\n",
              "       [ 68.        ,  83.08778344],\n",
              "       [ 39.        ,  64.51453712],\n",
              "       [ 78.        ,  79.11013959],\n",
              "       [ 91.        ,  21.7509356 ],\n",
              "       [ 86.        ,  14.83665396],\n",
              "       [ 43.        ,  65.9296972 ],\n",
              "       [ 59.        ,  29.28505202],\n",
              "       [ 87.        ,  99.24190767],\n",
              "       [101.        ,  17.05192703],\n",
              "       [ 73.        ,  80.45984065],\n",
              "       [ 97.        ,  11.11334417],\n",
              "       [ 37.        ,  66.59882198],\n",
              "       [ 32.        ,  41.80669899],\n",
              "       [ 27.        ,  34.94789423],\n",
              "       [ 32.        ,  48.7725424 ],\n",
              "       [ 90.        ,  70.58210415],\n",
              "       [ 76.        ,  13.98310121],\n",
              "       [ 22.        ,  23.24900004],\n",
              "       [ 85.        ,  91.39861123],\n",
              "       [ 29.        ,  21.54460159],\n",
              "       [ 59.        ,  20.59341293],\n",
              "       [ 61.        ,  25.22329005],\n",
              "       [ 79.        ,  92.89879052],\n",
              "       [ 32.        ,  20.85594495],\n",
              "       [ 41.        ,  50.59470801],\n",
              "       [100.        ,  30.96660628],\n",
              "       [ 61.        ,   7.40983728],\n",
              "       [ 37.        ,  60.27330689],\n",
              "       [ 84.        ,  11.17645134],\n",
              "       [ 43.        ,  55.84393354],\n",
              "       [ 71.        ,  87.4683564 ],\n",
              "       [ 62.        ,  23.1155047 ],\n",
              "       [ 49.        ,  23.75744174],\n",
              "       [ 97.        ,  13.60071137],\n",
              "       [ 81.        ,  22.6269944 ],\n",
              "       [ 85.        ,  21.59762876],\n",
              "       [ 37.        ,  75.22806945],\n",
              "       [ 37.        ,  66.49004728],\n",
              "       [ 26.        ,  57.9891273 ],\n",
              "       [ 76.        ,  74.54595733],\n",
              "       [ 37.        ,  60.71210725],\n",
              "       [ 34.        ,  61.00671756],\n",
              "       [ 71.        ,  82.29936911],\n",
              "       [ 91.        ,  31.77727934],\n",
              "       [ 94.        ,  15.43388662],\n",
              "       [ 90.        ,  17.95792924],\n",
              "       [ 79.        ,  82.87442493],\n",
              "       [ 65.        ,  17.18583199],\n",
              "       [ 57.        ,  39.05173716],\n",
              "       [ 21.        ,  16.14525862],\n",
              "       [ 73.        ,  17.05135104],\n",
              "       [ 19.        ,  14.62477033],\n",
              "       [ 72.        ,  15.78815938],\n",
              "       [ 17.        ,  22.37542477],\n",
              "       [ 67.        ,  25.08785074],\n",
              "       [ 86.        ,  79.47777183],\n",
              "       [ 73.        ,  90.04652851],\n",
              "       [ 99.        ,  31.3616172 ],\n",
              "       [ 33.        ,  78.5793632 ],\n",
              "       [ 84.        ,  17.18030026],\n",
              "       [ 45.        ,  64.83566573],\n",
              "       [ 76.        ,  74.09777593],\n",
              "       [ 85.        ,  88.4052188 ],\n",
              "       [ 91.        ,  13.56747347],\n",
              "       [ 88.        ,  15.59823016],\n",
              "       [ 69.        ,  86.49139632],\n",
              "       [ 31.        ,   5.0828568 ],\n",
              "       [ 43.        ,  29.88913264],\n",
              "       [ 94.        ,  17.44344192],\n",
              "       [ 82.        ,  15.09072399],\n",
              "       [ 90.        ,  18.31930725],\n",
              "       [ 81.        ,  23.84200045],\n",
              "       [ 45.        ,  63.39344836],\n",
              "       [ 40.        ,  72.08645001],\n",
              "       [ 17.        ,  64.64625599],\n",
              "       [ 90.        ,   6.16474127],\n",
              "       [ 82.        ,  76.16037528],\n",
              "       [ 13.        ,  11.66749784],\n",
              "       [ 75.        ,  94.93651204],\n",
              "       [ 63.        ,  29.01273392],\n",
              "       [ 42.        ,  63.75778413],\n",
              "       [ 20.        ,   3.74084121],\n",
              "       [ 91.        ,  18.37742016],\n",
              "       [ 79.        , 101.2974694 ],\n",
              "       [ 89.        ,   8.15052103],\n",
              "       [ 24.        ,  22.84834606],\n",
              "       [ 83.        ,  26.66254146],\n",
              "       [ 84.        ,  93.02954541],\n",
              "       [ 31.        ,  25.03969485],\n",
              "       [ 64.        ,   6.36441777],\n",
              "       [ 12.        ,  24.15650513],\n",
              "       [ 21.        ,  26.99265981],\n",
              "       [ 89.        ,  30.50516776],\n",
              "       [ 39.        ,  62.57533523],\n",
              "       [ 36.        ,  70.10109325],\n",
              "       [ 67.        ,  97.79189727],\n",
              "       [ 99.        ,  13.35525138],\n",
              "       [ 61.        ,  28.45837723],\n",
              "       [ 21.        ,  28.02448405],\n",
              "       [ 86.        ,   4.91913299],\n",
              "       [ 89.        ,  78.81889548],\n",
              "       [ 33.        ,  66.98780452],\n",
              "       [ 55.        ,  16.63651245],\n",
              "       [ 96.        ,  28.99802132],\n",
              "       [ 86.        ,  86.12020684],\n",
              "       [ 91.        ,  28.71150353],\n",
              "       [ 68.        ,  86.48565279],\n",
              "       [ 74.        ,  85.34028195],\n",
              "       [ 75.        ,  85.73339582],\n",
              "       [ 63.        ,  14.46551165]])"
            ]
          },
          "metadata": {},
          "execution_count": 15
        }
      ]
    },
    {
      "cell_type": "code",
      "source": [
        "wcss = []\n",
        "for k in range(1,11):\n",
        "    kmeans = KMeans(n_clusters=k)\n",
        "    kmeans.fit(x)\n",
        "    wcss.append(kmeans.inertia_)\n",
        "\n",
        "plt.figure(figsize=(12,6))    \n",
        "plt.grid()\n",
        "plt.plot(wcss)\n",
        "plt.xlabel(\"K Value\")\n",
        "plt.ylabel(\"WCSS\")\n",
        "plt.show()"
      ],
      "metadata": {
        "colab": {
          "base_uri": "https://localhost:8080/",
          "height": 388
        },
        "id": "LZRx4I3mywzq",
        "outputId": "55eaa494-2b90-4519-f24a-40363aa8ab11"
      },
      "execution_count": null,
      "outputs": [
        {
          "output_type": "display_data",
          "data": {
            "image/png": "[encoded data removed]",
            "text/plain": [
              "<Figure size 864x432 with 1 Axes>"
            ]
          },
          "metadata": {
            "needs_background": "light"
          }
        }
      ]
    },
    {
      "cell_type": "code",
      "source": [
        "model = (KMeans(n_clusters = 5) )\n",
        "model.fit(x)\n",
        "model"
      ],
      "metadata": {
        "colab": {
          "base_uri": "https://localhost:8080/"
        },
        "id": "688CYMoA0DHA",
        "outputId": "2c411091-60dc-4a51-b907-d4b2f7e11e8d"
      },
      "execution_count": null,
      "outputs": [
        {
          "output_type": "execute_result",
          "data": {
            "text/plain": [
              "KMeans(n_clusters=5)"
            ]
          },
          "metadata": {},
          "execution_count": 17
        }
      ]
    },
    {
      "cell_type": "code",
      "source": [
        "labels2 = model.labels_\n",
        "centroids2 = model.cluster_centers_"
      ],
      "metadata": {
        "id": "FLCwRHg107T2"
      },
      "execution_count": null,
      "outputs": []
    },
    {
      "cell_type": "code",
      "source": [
        "print(labels2)"
      ],
      "metadata": {
        "colab": {
          "base_uri": "https://localhost:8080/"
        },
        "id": "pN3NJbLw1Q1H",
        "outputId": "b5ca23d6-8cce-4e13-a567-c85148156c49"
      },
      "execution_count": null,
      "outputs": [
        {
          "output_type": "stream",
          "name": "stdout",
          "text": [
            "[4 3 1 2 1 4 2 2 2 2 4 3 1 4 4 4 0 2 1 2 3 4 3 2 0 3 0 2 4 2 0 4 3 3 3 0 2\n",
            " 0 3 2 4 0 3 1 4 2 1 4 2 0 1 2 3 1 4 4 0 0 2 1 4 4 3 2 2 3 3 1 0 1 1 0 3 4\n",
            " 4 3 2 3 0 4 2 4 1 1 1 4 0 2 3 1 4 4 3 3 3 1 4 3 3 0 3 1 1 3 4 2 3 1 3 4 4\n",
            " 1 1 1 1 4 1 1 4 1 3 4 1 4 4 1 1 1 0 4 3 1 4 4 2 4 1 4 4 3 1 1 3 2 4 1 0 1\n",
            " 3 4 1 2 4 3 1 1 2 1 4 4 3 4 3 4 1 2 1 4 4 3 1 1 4 3 3 4 0 4 2 2 1 1 4 1 1\n",
            " 4 1 1 3 4 3 4 0 3 1 1 2 1 4 2 2 4 1 2 4 4 4 3 1 4 3 1 4 4 0 3 4 4 1 2 0 3\n",
            " 0 0 0 2 0 4 4 4 2 3 4 3 3 3 1 4 2 4 3 0 1 0 3 3 3 4 1 4 4 4 4 2 1 0 4 1 4\n",
            " 1 0 4 1 4 1 4 2 4 3 0 1 1 4 3 1 2 4 0 0 0 4 1 2 1 0 4 1 3 2 4 0 0 2 4 0 1\n",
            " 1 1 3 1 1 4 4 3 4 4 4 1 4 3 4 2 0 3 1 4 1 2 1 4 1 1 3 4 3 2 4 3 3 4 3 4 3\n",
            " 1 2 4 3 1 4 2 1 4 2 1 2 4 3 4 4 1 4 4 1 3 2 3 4 2 0 1 3 4 1 3 2 0 1 2 4 2\n",
            " 2 1 4 2 4 3 4 4 0 4 1 0 3 2 1 2 4 3 4 0 1 2 1 4 4 2 0 1 4 1 4 2 3 3 2 1 4\n",
            " 3 1 3 0 0 1 3 2 4 0 2 4 2 1 0 0 4 4 4 2 2 2 1 2 2 1 4 4 4 1 0 0 3 0 3 0 3\n",
            " 0 1 1 4 2 4 2 1 1 4 4 1 3 3 4 4 4 4 2 2 2 4 1 3 1 0 2 3 4 1 4 3 4 1 3 0 3\n",
            " 3 4 2 2 1 4 0 3 4 1 2 0 4 1 4 1 1 1 0]\n"
          ]
        }
      ]
    },
    {
      "cell_type": "code",
      "source": [
        "print(centroids2)"
      ],
      "metadata": {
        "colab": {
          "base_uri": "https://localhost:8080/"
        },
        "id": "hG8tw6A6-AdQ",
        "outputId": "c1ddbfb2-007b-47e6-9fad-2e97c6223a24"
      },
      "execution_count": null,
      "outputs": [
        {
          "output_type": "stream",
          "name": "stdout",
          "text": [
            "[[60.37288136 21.04797992]\n",
            " [79.45454545 85.30056806]\n",
            " [38.5125     65.83463518]\n",
            " [24.40217391 25.27394633]\n",
            " [88.84459459 20.18933788]]\n"
          ]
        }
      ]
    },
    {
      "cell_type": "code",
      "source": [
        "df['label'] = labels2 \n",
        "plt.figure(figsize=(10,6))\n",
        "plt.scatter(df[\"Instagram visit score\"][df.label == 0], df[\"Spending_rank(0 to 100)\"][df.label == 0], c='blue', s=60)\n",
        "plt.scatter(df[\"Instagram visit score\"][df.label == 1], df[\"Spending_rank(0 to 100)\"][df.label == 1], c='red', s=60)\n",
        "plt.scatter(df[\"Instagram visit score\"][df.label == 2], df[\"Spending_rank(0 to 100)\"][df.label == 2], c='green', s=60)\n",
        "plt.scatter(df[\"Instagram visit score\"][df.label == 3], df[\"Spending_rank(0 to 100)\"][df.label == 3], c='cyan', s=60)\n",
        "plt.scatter(df[\"Instagram visit score\"][df.label == 4], df[\"Spending_rank(0 to 100)\"][df.label == 4], c='magenta', s=60)\n",
        "plt.scatter(df[\"Instagram visit score\"][df.label == 5], df[\"Spending_rank(0 to 100)\"][df.label == 5], c='pink', s=60)\n",
        "plt.scatter(centroids2[:, 0], centroids2[:, 1], s=100, c='yellow', label='Centroids' )\n",
        "plt.xlabel(\"Annual Income\")\n",
        "plt.ylabel(\"Spending Score (1-100)\")\n",
        "plt.title('Clusters of Viewers')\n",
        "plt.show()"
      ],
      "metadata": {
        "colab": {
          "base_uri": "https://localhost:8080/",
          "height": 404
        },
        "id": "a1Gi5fan4CvJ",
        "outputId": "0423c766-4bed-46b7-9d5e-dbbe4d8dc350"
      },
      "execution_count": null,
      "outputs": [
        {
          "output_type": "display_data",
          "data": {
            "image/png": "[encoded data removed]",
            "text/plain": [
              "<Figure size 720x432 with 1 Axes>"
            ]
          },
          "metadata": {
            "needs_background": "light"
          }
        }
      ]
    },
    {
      "cell_type": "code",
      "source": [
        "print (metrics.silhouette_score(x,kmeans.labels_,metric='euclidean'))"
      ],
      "metadata": {
        "colab": {
          "base_uri": "https://localhost:8080/"
        },
        "id": "TtA_Ys7s5N3F",
        "outputId": "9443b374-ba07-446f-b655-f87574d2a174"
      },
      "execution_count": null,
      "outputs": [
        {
          "output_type": "stream",
          "name": "stdout",
          "text": [
            "0.34246336468131017\n"
          ]
        }
      ]
    }
  ]
}